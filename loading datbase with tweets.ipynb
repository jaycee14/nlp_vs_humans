{
 "cells": [
  {
   "cell_type": "markdown",
   "metadata": {},
   "source": [
    "* July 2020\n",
    "* This notebook was to load the volume database with tweets for review. \n",
    "* I already had the tweets from an earlier project https://github.com/jaycee14/tv_sentiment"
   ]
  },
  {
   "cell_type": "code",
   "execution_count": 1,
   "metadata": {},
   "outputs": [],
   "source": [
    "import psycopg2\n",
    "from sqlalchemy import create_engine, MetaData,Table, Column, Integer, String, DateTime\n",
    "from sqlalchemy.orm import mapper,sessionmaker\n",
    "from sqlalchemy import func\n",
    "from pathlib import Path\n",
    "from sqlalchemy.ext.automap import automap_base\n",
    "from datetime import datetime"
   ]
  },
  {
   "cell_type": "code",
   "execution_count": 2,
   "metadata": {},
   "outputs": [],
   "source": [
    "from nlp_cmp_utils import get_config, create_db_url"
   ]
  },
  {
   "cell_type": "code",
   "execution_count": 3,
   "metadata": {},
   "outputs": [],
   "source": [
    "import pandas as pd\n",
    "from sqlalchemy.ext.declarative import declarative_base"
   ]
  },
  {
   "cell_type": "code",
   "execution_count": 4,
   "metadata": {},
   "outputs": [],
   "source": [
    "projects_path = Path('/home/jjc/Projects/')\n",
    "host_addr = \"localhost:5432\""
   ]
  },
  {
   "cell_type": "markdown",
   "metadata": {},
   "source": [
    "### Phase 1 get commetns from tv_sentiment"
   ]
  },
  {
   "cell_type": "code",
   "execution_count": 5,
   "metadata": {},
   "outputs": [],
   "source": [
    "tv_config = get_config(projects_path / 'tv_sentiment' / 'database.env')"
   ]
  },
  {
   "cell_type": "code",
   "execution_count": 6,
   "metadata": {},
   "outputs": [],
   "source": [
    "TV_URL = create_db_url(tv_config,host_addr)"
   ]
  },
  {
   "cell_type": "code",
   "execution_count": 7,
   "metadata": {},
   "outputs": [],
   "source": [
    "engine = create_engine(TV_URL)\n",
    "meta = MetaData()"
   ]
  },
  {
   "cell_type": "code",
   "execution_count": 9,
   "metadata": {},
   "outputs": [],
   "source": [
    "conn = engine.raw_connection()\n",
    "cur = conn.cursor()"
   ]
  },
  {
   "cell_type": "code",
   "execution_count": 11,
   "metadata": {},
   "outputs": [],
   "source": [
    "sql = \"\"\"SELECT queries.query_id,queries.show_id, comments.comment_date_utc, query_date, sentiment,\n",
    "sentiment_score, name, service, comment_text\n",
    "FROM queries \n",
    "JOIN comments ON queries.query_id=comments.query_id \n",
    "JOIN shows on queries.show_id = shows.show_id\n",
    "where sentiment_score > 0.75\n",
    "\"\"\""
   ]
  },
  {
   "cell_type": "code",
   "execution_count": 14,
   "metadata": {},
   "outputs": [],
   "source": [
    "res_table =pd.read_sql_query(sql,conn)"
   ]
  },
  {
   "cell_type": "code",
   "execution_count": 15,
   "metadata": {},
   "outputs": [],
   "source": [
    "pos_selection = res_table.loc[res_table.sentiment=='pos'].sample(1000)\n",
    "neg_selection = res_table.loc[res_table.sentiment=='neg'].sample(1000)"
   ]
  },
  {
   "cell_type": "code",
   "execution_count": 28,
   "metadata": {},
   "outputs": [],
   "source": [
    "selection = pd.concat((pos_selection,neg_selection))"
   ]
  },
  {
   "cell_type": "code",
   "execution_count": 16,
   "metadata": {},
   "outputs": [],
   "source": [
    "conn.close()"
   ]
  },
  {
   "cell_type": "markdown",
   "metadata": {},
   "source": [
    "### load comments into nlp database\n",
    "* requires a change of docker container mounted"
   ]
  },
  {
   "cell_type": "code",
   "execution_count": 5,
   "metadata": {},
   "outputs": [],
   "source": [
    "cmp_config = get_config(projects_path / 'nlp_cmp_human' /'database.env')"
   ]
  },
  {
   "cell_type": "code",
   "execution_count": 6,
   "metadata": {},
   "outputs": [],
   "source": [
    "CMP_URL = create_db_url(cmp_config,host_addr)"
   ]
  },
  {
   "cell_type": "code",
   "execution_count": 7,
   "metadata": {},
   "outputs": [],
   "source": [
    "Base= declarative_base()"
   ]
  },
  {
   "cell_type": "code",
   "execution_count": 8,
   "metadata": {},
   "outputs": [],
   "source": [
    "class Features(Base):\n",
    "    __tablename__ = 'features'\n",
    "\n",
    "    id = Column(Integer, primary_key=True)\n",
    "    feature_text = Column(String)\n",
    "    type = Column(String)\n",
    "\n",
    "\n",
    "class Labels(Base):\n",
    "    __tablename__ = 'labels'\n",
    "\n",
    "    id = Column(Integer, primary_key=True)\n",
    "    feature_id = Column(Integer)\n",
    "    label_text = Column(String)\n",
    "    entry_id = Column(Integer)\n",
    "\n",
    "\n",
    "class Entries(Base):\n",
    "    __tablename__ = 'entries'\n",
    "\n",
    "    id = Column(Integer, primary_key=True)\n",
    "    entry_date = Column(DateTime, default=datetime.utcnow)"
   ]
  },
  {
   "cell_type": "code",
   "execution_count": 9,
   "metadata": {},
   "outputs": [],
   "source": [
    "engine = create_engine(CMP_URL)"
   ]
  },
  {
   "cell_type": "code",
   "execution_count": 10,
   "metadata": {},
   "outputs": [],
   "source": [
    "Base.metadata.create_all(engine)"
   ]
  },
  {
   "cell_type": "code",
   "execution_count": 11,
   "metadata": {},
   "outputs": [],
   "source": [
    "Session = sessionmaker(bind=engine)\n",
    "session = Session()"
   ]
  },
  {
   "cell_type": "markdown",
   "metadata": {},
   "source": [
    "### select phrases"
   ]
  },
  {
   "cell_type": "code",
   "execution_count": 29,
   "metadata": {},
   "outputs": [
    {
     "data": {
      "text/html": [
       "<div>\n",
       "<style scoped>\n",
       "    .dataframe tbody tr th:only-of-type {\n",
       "        vertical-align: middle;\n",
       "    }\n",
       "\n",
       "    .dataframe tbody tr th {\n",
       "        vertical-align: top;\n",
       "    }\n",
       "\n",
       "    .dataframe thead th {\n",
       "        text-align: right;\n",
       "    }\n",
       "</style>\n",
       "<table border=\"1\" class=\"dataframe\">\n",
       "  <thead>\n",
       "    <tr style=\"text-align: right;\">\n",
       "      <th></th>\n",
       "      <th>query_id</th>\n",
       "      <th>show_id</th>\n",
       "      <th>comment_date_utc</th>\n",
       "      <th>query_date</th>\n",
       "      <th>type</th>\n",
       "      <th>sentiment_score</th>\n",
       "      <th>name</th>\n",
       "      <th>service</th>\n",
       "      <th>feature_text</th>\n",
       "    </tr>\n",
       "  </thead>\n",
       "  <tbody>\n",
       "    <tr>\n",
       "      <th>928</th>\n",
       "      <td>171</td>\n",
       "      <td>7</td>\n",
       "      <td>2020-02-22 19:50:35</td>\n",
       "      <td>2020-02-23 17:01:38.028815</td>\n",
       "      <td>pos</td>\n",
       "      <td>0.895979</td>\n",
       "      <td>picard</td>\n",
       "      <td>amazon</td>\n",
       "      <td>RT @Jwhitbrook: With the new Picard up on Amaz...</td>\n",
       "    </tr>\n",
       "    <tr>\n",
       "      <th>5861</th>\n",
       "      <td>670</td>\n",
       "      <td>14</td>\n",
       "      <td>2020-05-01 20:38:06</td>\n",
       "      <td>2020-05-01 23:33:40.790454</td>\n",
       "      <td>pos</td>\n",
       "      <td>0.762469</td>\n",
       "      <td>tiger king</td>\n",
       "      <td>netflix</td>\n",
       "      <td>RT @klaushismydaddy: netflix: i love ALL of my...</td>\n",
       "    </tr>\n",
       "    <tr>\n",
       "      <th>3849</th>\n",
       "      <td>458</td>\n",
       "      <td>7</td>\n",
       "      <td>2020-04-16 17:46:05</td>\n",
       "      <td>2020-04-18 11:27:29.562690</td>\n",
       "      <td>pos</td>\n",
       "      <td>0.986387</td>\n",
       "      <td>picard</td>\n",
       "      <td>amazon</td>\n",
       "      <td>Just finished Picard on Amazon Prime. Was not ...</td>\n",
       "    </tr>\n",
       "  </tbody>\n",
       "</table>\n",
       "</div>"
      ],
      "text/plain": [
       "      query_id  show_id    comment_date_utc                 query_date type  \\\n",
       "928        171        7 2020-02-22 19:50:35 2020-02-23 17:01:38.028815  pos   \n",
       "5861       670       14 2020-05-01 20:38:06 2020-05-01 23:33:40.790454  pos   \n",
       "3849       458        7 2020-04-16 17:46:05 2020-04-18 11:27:29.562690  pos   \n",
       "\n",
       "      sentiment_score        name  service  \\\n",
       "928          0.895979      picard   amazon   \n",
       "5861         0.762469  tiger king  netflix   \n",
       "3849         0.986387      picard   amazon   \n",
       "\n",
       "                                           feature_text  \n",
       "928   RT @Jwhitbrook: With the new Picard up on Amaz...  \n",
       "5861  RT @klaushismydaddy: netflix: i love ALL of my...  \n",
       "3849  Just finished Picard on Amazon Prime. Was not ...  "
      ]
     },
     "execution_count": 29,
     "metadata": {},
     "output_type": "execute_result"
    }
   ],
   "source": [
    "selection.rename(columns={'comment_text':'feature_text','sentiment':'type'},inplace=True)\n",
    "selection.head(3)"
   ]
  },
  {
   "cell_type": "code",
   "execution_count": 30,
   "metadata": {},
   "outputs": [],
   "source": [
    "inserts = selection[['feature_text','type']].to_dict(orient='records')"
   ]
  },
  {
   "cell_type": "code",
   "execution_count": 34,
   "metadata": {},
   "outputs": [],
   "source": [
    "features_to_load=[]\n",
    "for insert in inserts:\n",
    "    features_to_load.append(Features(**insert))"
   ]
  },
  {
   "cell_type": "code",
   "execution_count": 36,
   "metadata": {},
   "outputs": [
    {
     "data": {
      "text/plain": [
       "'RT @Jwhitbrook: With the new Picard up on Amazon I can finally get a clean screenshot and ask...\\n\\nWas anyone else momentarily stunned by ju…'"
      ]
     },
     "execution_count": 36,
     "metadata": {},
     "output_type": "execute_result"
    }
   ],
   "source": [
    "features_to_load[0].feature_text"
   ]
  },
  {
   "cell_type": "code",
   "execution_count": 37,
   "metadata": {},
   "outputs": [],
   "source": [
    "session.add_all(features_to_load)"
   ]
  },
  {
   "cell_type": "code",
   "execution_count": 38,
   "metadata": {},
   "outputs": [],
   "source": [
    "session.commit()"
   ]
  },
  {
   "cell_type": "code",
   "execution_count": 39,
   "metadata": {},
   "outputs": [
    {
     "name": "stdout",
     "output_type": "stream",
     "text": [
      "1 RT @Jwhitbrook: With the new Picard up on Amazon I can finally get a clean screenshot and ask...\n",
      "\n",
      "Was anyone else momentarily stunned by ju… pos\n",
      "2 RT @klaushismydaddy: netflix: i love ALL of my programs equally!!! stranger things, lucifer, tiger king, and *looks at smudged writing on h… pos\n",
      "3 Just finished Picard on Amazon Prime. Was not expecting to cry. What an excellent show. pos\n",
      "4 @RachaelCraw @FleurFerris @gabrielletozer Amazon Prime. Where Picard, The Boys and Good Omens can also be found! pos\n",
      "5 If you haven’t seen the amazon prime show “Upload”, I suggest you go do so. I really enjoyed this movie and it surrounds itself in virtual reality. I have laughed, felt on edge and the story has some twist and turns. Please if you haven’t seen it? Do so! I hope season 2 happens. https://t.co/Mf5bSi pos\n",
      "6 @brexitblog_info @boblister_poole https://t.co/l2HIKNQ95V\n",
      "\n",
      "Works both ways pos\n",
      "7 All 8 episodes of Alex Garland’s DEVS are now available on BBC iPlayer. https://t.co/TzoVZFMD0r pos\n",
      "8 Voyager has always been my favourite Star Trek and seeing @JeriLRyan on Picard looking so fucking amazing and kicking ass as Seven of Nine again makes me so happy! Now.. Amazon, let's talk about Janeway.. #startrek #picard #janeway #sevenofnine #voyager https://t.co/BcFlzkHmj2 pos\n",
      "9 RT @AndrewDawes71: Excellent, first question at today's Coronavirus press conference from the BBC, exactly the same as someone else asked M… pos\n",
      "10 “Tiger King that was great. Peaky Blinders is another favorite of mine.” - Niall on Netflix recommendations via @SiriusXMHits1 pos\n"
     ]
    }
   ],
   "source": [
    "for instance in session.query(Features).order_by(Features.id).limit(10):\n",
    "    print(instance.id, instance.feature_text, instance.type)"
   ]
  },
  {
   "cell_type": "code",
   "execution_count": null,
   "metadata": {},
   "outputs": [],
   "source": []
  }
 ],
 "metadata": {
  "kernelspec": {
   "display_name": "Python 3",
   "language": "python",
   "name": "python3"
  },
  "language_info": {
   "codemirror_mode": {
    "name": "ipython",
    "version": 3
   },
   "file_extension": ".py",
   "mimetype": "text/x-python",
   "name": "python",
   "nbconvert_exporter": "python",
   "pygments_lexer": "ipython3",
   "version": "3.7.7"
  }
 },
 "nbformat": 4,
 "nbformat_minor": 4
}

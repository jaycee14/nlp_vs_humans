{
 "cells": [
  {
   "cell_type": "code",
   "execution_count": 1,
   "metadata": {},
   "outputs": [],
   "source": [
    "from sqlalchemy import create_engine, MetaData,Table, Column, Integer, String\n",
    "from superintendent import TextLabeller\n",
    "from superintendent.queueing import SimpleDatabaseQueue\n",
    "import os"
   ]
  },
  {
   "cell_type": "code",
   "execution_count": null,
   "metadata": {},
   "outputs": [],
   "source": [
    "user = os.environ['POSTGRES_USER']\n",
    "passw = os.environ['POSTGRES_PASSWORD']\n",
    "db = os.environ['POSTGRES_DB']\n",
    "host = os.environ['DB_HOST']"
   ]
  },
  {
   "cell_type": "code",
   "execution_count": null,
   "metadata": {},
   "outputs": [],
   "source": [
    "DB_URL = 'postgresql+psycopg2://{user}:{pw}@{url}/{db}'.format(user=user, pw=passw, url=host, db=db)"
   ]
  },
  {
   "cell_type": "markdown",
   "metadata": {},
   "source": [
    "# Twitter Sentiment Testing\n",
    "<hr />\n",
    "\n",
    "## Instructions\n",
    "\n",
    "\n",
    "* Please read these tweets (about various TV shows) and select what words or phrases in the tweet make you decide it is positive / negative.\n",
    "* For longer tweets the words appear in drop down box but the process is the same. ( Hold down crtl to select multiple words in the drop down )\n",
    "* If not obvious - please just click skip.\n",
    "* Please keep reviewing until you get a message saying the labelling has finished.\n",
    "* And... err... this is twitter, if some tweets are a bit fruity, I apologise, but please still look for the sentiment! ( Or skip )\n",
    "\n",
    "Thanks\n",
    "\n",
    "### tl;dr\n",
    "* Select the postive / negative words below. Skip anything ambiguous. Keep going. Ta"
   ]
  },
  {
   "cell_type": "markdown",
   "metadata": {},
   "source": [
    "<span style=\"font-family: Arial; font-size:1.6em;color:green;\">Positive Words</span>\n",
    "<hr />"
   ]
  },
  {
   "cell_type": "code",
   "execution_count": 3,
   "metadata": {},
   "outputs": [],
   "source": [
    "text_label_pos = TextLabeller(allow_freetext=False,message_type='pos',db_string=DB_URL)"
   ]
  },
  {
   "cell_type": "code",
   "execution_count": 4,
   "metadata": {},
   "outputs": [
    {
     "data": {
      "application/vnd.jupyter.widget-view+json": {
       "model_id": "d5f5154ead9748cca97dab94f391cd92",
       "version_major": 2,
       "version_minor": 0
      },
      "text/plain": [
       "TextLabeller(children=(HBox(children=(FloatProgress(value=0.0, description='Progress:', max=1.0),)), Box(child…"
      ]
     },
     "metadata": {},
     "output_type": "display_data"
    }
   ],
   "source": [
    "text_label_pos"
   ]
  },
  {
   "cell_type": "markdown",
   "metadata": {},
   "source": [
    "<span style=\"font-family: Arial; font-size:1.6em;color:red;\">Negative Words</span>\n",
    "<hr />"
   ]
  },
  {
   "cell_type": "code",
   "execution_count": 7,
   "metadata": {},
   "outputs": [],
   "source": [
    "text_label_neg = TextLabeller(allow_freetext=False,message_type='neg',db_string=DB_URL)"
   ]
  },
  {
   "cell_type": "code",
   "execution_count": 8,
   "metadata": {},
   "outputs": [
    {
     "data": {
      "application/vnd.jupyter.widget-view+json": {
       "model_id": "20f85ddd2e034af1a7dd070748bf88d6",
       "version_major": 2,
       "version_minor": 0
      },
      "text/plain": [
       "TextLabeller(children=(HBox(children=(FloatProgress(value=0.0, description='Progress:', max=1.0),)), Box(child…"
      ]
     },
     "metadata": {},
     "output_type": "display_data"
    }
   ],
   "source": [
    "text_label_neg"
   ]
  },
  {
   "cell_type": "markdown",
   "metadata": {},
   "source": [
    "### Background\n",
    "I've been looking at methods of understanding how a machine learning model decides the sentiment of a tweet (see this project https://github.com/jaycee14/tv_sentiment ) but realised this was involving 'my' own interpretation of what is positive / negative. I wanted to broaden this to group of people and aim for a consensus of views. This project is to collect the data on what is positive & negative."
   ]
  }
 ],
 "metadata": {
  "kernelspec": {
   "display_name": "Python 3",
   "language": "python",
   "name": "python3"
  },
  "language_info": {
   "codemirror_mode": {
    "name": "ipython",
    "version": 3
   },
   "file_extension": ".py",
   "mimetype": "text/x-python",
   "name": "python",
   "nbconvert_exporter": "python",
   "pygments_lexer": "ipython3",
   "version": "3.7.7"
  }
 },
 "nbformat": 4,
 "nbformat_minor": 4
}

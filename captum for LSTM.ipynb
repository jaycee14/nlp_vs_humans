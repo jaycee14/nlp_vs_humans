{
 "cells": [
  {
   "cell_type": "code",
   "execution_count": 1,
   "metadata": {},
   "outputs": [],
   "source": [
    "%load_ext autoreload\n",
    "%autoreload 2"
   ]
  },
  {
   "cell_type": "code",
   "execution_count": 2,
   "metadata": {},
   "outputs": [],
   "source": [
    "import os\n",
    "import pandas as pd\n",
    "from tqdm import tqdm"
   ]
  },
  {
   "cell_type": "code",
   "execution_count": 3,
   "metadata": {},
   "outputs": [],
   "source": [
    "from captum.attr import LayerIntegratedGradients\n",
    "import torch\n",
    "from fastai.text import *"
   ]
  },
  {
   "cell_type": "code",
   "execution_count": 4,
   "metadata": {},
   "outputs": [],
   "source": [
    "from nlp_cmp_utils import reset_model, prepare_captum_tensors, explain_tweet\n",
    "from pathlib import Path"
   ]
  },
  {
   "cell_type": "code",
   "execution_count": 5,
   "metadata": {},
   "outputs": [],
   "source": [
    "awd_path = Path('../imdb/')"
   ]
  },
  {
   "cell_type": "code",
   "execution_count": 6,
   "metadata": {},
   "outputs": [],
   "source": [
    "pd.set_option('max_colwidth',100)"
   ]
  },
  {
   "cell_type": "markdown",
   "metadata": {},
   "source": [
    "### get file data"
   ]
  },
  {
   "cell_type": "code",
   "execution_count": 8,
   "metadata": {},
   "outputs": [],
   "source": [
    "filename = 'result_2020_11_15.json'"
   ]
  },
  {
   "cell_type": "code",
   "execution_count": 9,
   "metadata": {},
   "outputs": [],
   "source": [
    "df = pd.read_json(filename)"
   ]
  },
  {
   "cell_type": "code",
   "execution_count": 10,
   "metadata": {},
   "outputs": [
    {
     "data": {
      "text/html": [
       "<div>\n",
       "<style scoped>\n",
       "    .dataframe tbody tr th:only-of-type {\n",
       "        vertical-align: middle;\n",
       "    }\n",
       "\n",
       "    .dataframe tbody tr th {\n",
       "        vertical-align: top;\n",
       "    }\n",
       "\n",
       "    .dataframe thead th {\n",
       "        text-align: right;\n",
       "    }\n",
       "</style>\n",
       "<table border=\"1\" class=\"dataframe\">\n",
       "  <thead>\n",
       "    <tr style=\"text-align: right;\">\n",
       "      <th></th>\n",
       "      <th>id</th>\n",
       "      <th>feature_id</th>\n",
       "      <th>label_text</th>\n",
       "      <th>entry_id</th>\n",
       "      <th>feature_text</th>\n",
       "      <th>type</th>\n",
       "    </tr>\n",
       "  </thead>\n",
       "  <tbody>\n",
       "    <tr>\n",
       "      <th>0</th>\n",
       "      <td>27</td>\n",
       "      <td>1</td>\n",
       "      <td>{stunned}</td>\n",
       "      <td>13</td>\n",
       "      <td>RT @Jwhitbrook: With the new Picard up on Amazon I can finally get a clean screenshot and ask......</td>\n",
       "      <td>pos</td>\n",
       "    </tr>\n",
       "    <tr>\n",
       "      <th>1</th>\n",
       "      <td>1</td>\n",
       "      <td>2</td>\n",
       "      <td>{love}</td>\n",
       "      <td>5</td>\n",
       "      <td>RT @klaushismydaddy: netflix: i love ALL of my programs equally!!! stranger things, lucifer, tig...</td>\n",
       "      <td>pos</td>\n",
       "    </tr>\n",
       "    <tr>\n",
       "      <th>2</th>\n",
       "      <td>2</td>\n",
       "      <td>3</td>\n",
       "      <td>{excellent}</td>\n",
       "      <td>5</td>\n",
       "      <td>Just finished Picard on Amazon Prime. Was not expecting to cry. What an excellent show.</td>\n",
       "      <td>pos</td>\n",
       "    </tr>\n",
       "    <tr>\n",
       "      <th>3</th>\n",
       "      <td>3</td>\n",
       "      <td>5</td>\n",
       "      <td>{you,suggest,go,do,so.}</td>\n",
       "      <td>5</td>\n",
       "      <td>If you haven’t seen the amazon prime show “Upload”, I suggest you go do so. I really enjoyed thi...</td>\n",
       "      <td>pos</td>\n",
       "    </tr>\n",
       "    <tr>\n",
       "      <th>4</th>\n",
       "      <td>25</td>\n",
       "      <td>6</td>\n",
       "      <td>{\"https://t.co/l2HIKNQ95V\\n\\nWorks\"}</td>\n",
       "      <td>13</td>\n",
       "      <td>@brexitblog_info @boblister_poole https://t.co/l2HIKNQ95V\\n\\nWorks both ways</td>\n",
       "      <td>pos</td>\n",
       "    </tr>\n",
       "    <tr>\n",
       "      <th>...</th>\n",
       "      <td>...</td>\n",
       "      <td>...</td>\n",
       "      <td>...</td>\n",
       "      <td>...</td>\n",
       "      <td>...</td>\n",
       "      <td>...</td>\n",
       "    </tr>\n",
       "    <tr>\n",
       "      <th>423</th>\n",
       "      <td>400</td>\n",
       "      <td>1549</td>\n",
       "      <td>{NEVER}</td>\n",
       "      <td>265</td>\n",
       "      <td>RT @Floydbirman: @LoyalDefender2K I have NEVER watch ANY award for decades. Same as BBC Question...</td>\n",
       "      <td>neg</td>\n",
       "    </tr>\n",
       "    <tr>\n",
       "      <th>424</th>\n",
       "      <td>328</td>\n",
       "      <td>1556</td>\n",
       "      <td>{out,of,touch}</td>\n",
       "      <td>167</td>\n",
       "      <td>RT @annesayer6: @LozzaFox @EquityUK I would suggest actors denounce Equity UK for being complete...</td>\n",
       "      <td>neg</td>\n",
       "    </tr>\n",
       "    <tr>\n",
       "      <th>425</th>\n",
       "      <td>410</td>\n",
       "      <td>1557</td>\n",
       "      <td>{disgracefully}</td>\n",
       "      <td>265</td>\n",
       "      <td>@JohnSimpsonNews Not to mention anti SNP bias! It’s blatant in Scotland! There is no doubt the b...</td>\n",
       "      <td>neg</td>\n",
       "    </tr>\n",
       "    <tr>\n",
       "      <th>426</th>\n",
       "      <td>422</td>\n",
       "      <td>1565</td>\n",
       "      <td>{hate}</td>\n",
       "      <td>348</td>\n",
       "      <td>RT @Ally__Cinnamon: Boris Johnson could say I fuckin hate the blacks man and there would be a de...</td>\n",
       "      <td>neg</td>\n",
       "    </tr>\n",
       "    <tr>\n",
       "      <th>427</th>\n",
       "      <td>403</td>\n",
       "      <td>1587</td>\n",
       "      <td>{anti-government,rhetoric,Nothing,remotely,supportive}</td>\n",
       "      <td>265</td>\n",
       "      <td>@bbcquestiontime BBC Question Time - Mouthpiece of the Labour Party.\\nMiriad of anti-government ...</td>\n",
       "      <td>neg</td>\n",
       "    </tr>\n",
       "  </tbody>\n",
       "</table>\n",
       "<p>428 rows × 6 columns</p>\n",
       "</div>"
      ],
      "text/plain": [
       "      id  feature_id                                              label_text  \\\n",
       "0     27           1                                               {stunned}   \n",
       "1      1           2                                                  {love}   \n",
       "2      2           3                                             {excellent}   \n",
       "3      3           5                                 {you,suggest,go,do,so.}   \n",
       "4     25           6                    {\"https://t.co/l2HIKNQ95V\\n\\nWorks\"}   \n",
       "..   ...         ...                                                     ...   \n",
       "423  400        1549                                                 {NEVER}   \n",
       "424  328        1556                                          {out,of,touch}   \n",
       "425  410        1557                                         {disgracefully}   \n",
       "426  422        1565                                                  {hate}   \n",
       "427  403        1587  {anti-government,rhetoric,Nothing,remotely,supportive}   \n",
       "\n",
       "     entry_id  \\\n",
       "0          13   \n",
       "1           5   \n",
       "2           5   \n",
       "3           5   \n",
       "4          13   \n",
       "..        ...   \n",
       "423       265   \n",
       "424       167   \n",
       "425       265   \n",
       "426       348   \n",
       "427       265   \n",
       "\n",
       "                                                                                            feature_text  \\\n",
       "0    RT @Jwhitbrook: With the new Picard up on Amazon I can finally get a clean screenshot and ask......   \n",
       "1    RT @klaushismydaddy: netflix: i love ALL of my programs equally!!! stranger things, lucifer, tig...   \n",
       "2                Just finished Picard on Amazon Prime. Was not expecting to cry. What an excellent show.   \n",
       "3    If you haven’t seen the amazon prime show “Upload”, I suggest you go do so. I really enjoyed thi...   \n",
       "4                           @brexitblog_info @boblister_poole https://t.co/l2HIKNQ95V\\n\\nWorks both ways   \n",
       "..                                                                                                   ...   \n",
       "423  RT @Floydbirman: @LoyalDefender2K I have NEVER watch ANY award for decades. Same as BBC Question...   \n",
       "424  RT @annesayer6: @LozzaFox @EquityUK I would suggest actors denounce Equity UK for being complete...   \n",
       "425  @JohnSimpsonNews Not to mention anti SNP bias! It’s blatant in Scotland! There is no doubt the b...   \n",
       "426  RT @Ally__Cinnamon: Boris Johnson could say I fuckin hate the blacks man and there would be a de...   \n",
       "427  @bbcquestiontime BBC Question Time - Mouthpiece of the Labour Party.\\nMiriad of anti-government ...   \n",
       "\n",
       "    type  \n",
       "0    pos  \n",
       "1    pos  \n",
       "2    pos  \n",
       "3    pos  \n",
       "4    pos  \n",
       "..   ...  \n",
       "423  neg  \n",
       "424  neg  \n",
       "425  neg  \n",
       "426  neg  \n",
       "427  neg  \n",
       "\n",
       "[428 rows x 6 columns]"
      ]
     },
     "execution_count": 10,
     "metadata": {},
     "output_type": "execute_result"
    }
   ],
   "source": [
    "df"
   ]
  },
  {
   "cell_type": "code",
   "execution_count": 11,
   "metadata": {},
   "outputs": [
    {
     "data": {
      "text/html": [
       "<div>\n",
       "<style scoped>\n",
       "    .dataframe tbody tr th:only-of-type {\n",
       "        vertical-align: middle;\n",
       "    }\n",
       "\n",
       "    .dataframe tbody tr th {\n",
       "        vertical-align: top;\n",
       "    }\n",
       "\n",
       "    .dataframe thead th {\n",
       "        text-align: right;\n",
       "    }\n",
       "</style>\n",
       "<table border=\"1\" class=\"dataframe\">\n",
       "  <thead>\n",
       "    <tr style=\"text-align: right;\">\n",
       "      <th></th>\n",
       "      <th>feature_text</th>\n",
       "      <th>label_text</th>\n",
       "    </tr>\n",
       "  </thead>\n",
       "  <tbody>\n",
       "    <tr>\n",
       "      <th>0</th>\n",
       "      <td>RT @Jwhitbrook: With the new Picard up on Amazon I can finally get a clean screenshot and ask......</td>\n",
       "      <td>{stunned}</td>\n",
       "    </tr>\n",
       "    <tr>\n",
       "      <th>1</th>\n",
       "      <td>RT @klaushismydaddy: netflix: i love ALL of my programs equally!!! stranger things, lucifer, tig...</td>\n",
       "      <td>{love}</td>\n",
       "    </tr>\n",
       "    <tr>\n",
       "      <th>2</th>\n",
       "      <td>Just finished Picard on Amazon Prime. Was not expecting to cry. What an excellent show.</td>\n",
       "      <td>{excellent}</td>\n",
       "    </tr>\n",
       "    <tr>\n",
       "      <th>3</th>\n",
       "      <td>If you haven’t seen the amazon prime show “Upload”, I suggest you go do so. I really enjoyed thi...</td>\n",
       "      <td>{you,suggest,go,do,so.}</td>\n",
       "    </tr>\n",
       "    <tr>\n",
       "      <th>4</th>\n",
       "      <td>@brexitblog_info @boblister_poole https://t.co/l2HIKNQ95V\\n\\nWorks both ways</td>\n",
       "      <td>{\"https://t.co/l2HIKNQ95V\\n\\nWorks\"}</td>\n",
       "    </tr>\n",
       "    <tr>\n",
       "      <th>...</th>\n",
       "      <td>...</td>\n",
       "      <td>...</td>\n",
       "    </tr>\n",
       "    <tr>\n",
       "      <th>423</th>\n",
       "      <td>RT @Floydbirman: @LoyalDefender2K I have NEVER watch ANY award for decades. Same as BBC Question...</td>\n",
       "      <td>{NEVER}</td>\n",
       "    </tr>\n",
       "    <tr>\n",
       "      <th>424</th>\n",
       "      <td>RT @annesayer6: @LozzaFox @EquityUK I would suggest actors denounce Equity UK for being complete...</td>\n",
       "      <td>{out,of,touch}</td>\n",
       "    </tr>\n",
       "    <tr>\n",
       "      <th>425</th>\n",
       "      <td>@JohnSimpsonNews Not to mention anti SNP bias! It’s blatant in Scotland! There is no doubt the b...</td>\n",
       "      <td>{disgracefully}</td>\n",
       "    </tr>\n",
       "    <tr>\n",
       "      <th>426</th>\n",
       "      <td>RT @Ally__Cinnamon: Boris Johnson could say I fuckin hate the blacks man and there would be a de...</td>\n",
       "      <td>{hate}</td>\n",
       "    </tr>\n",
       "    <tr>\n",
       "      <th>427</th>\n",
       "      <td>@bbcquestiontime BBC Question Time - Mouthpiece of the Labour Party.\\nMiriad of anti-government ...</td>\n",
       "      <td>{anti-government,rhetoric,Nothing,remotely,supportive}</td>\n",
       "    </tr>\n",
       "  </tbody>\n",
       "</table>\n",
       "<p>428 rows × 2 columns</p>\n",
       "</div>"
      ],
      "text/plain": [
       "                                                                                            feature_text  \\\n",
       "0    RT @Jwhitbrook: With the new Picard up on Amazon I can finally get a clean screenshot and ask......   \n",
       "1    RT @klaushismydaddy: netflix: i love ALL of my programs equally!!! stranger things, lucifer, tig...   \n",
       "2                Just finished Picard on Amazon Prime. Was not expecting to cry. What an excellent show.   \n",
       "3    If you haven’t seen the amazon prime show “Upload”, I suggest you go do so. I really enjoyed thi...   \n",
       "4                           @brexitblog_info @boblister_poole https://t.co/l2HIKNQ95V\\n\\nWorks both ways   \n",
       "..                                                                                                   ...   \n",
       "423  RT @Floydbirman: @LoyalDefender2K I have NEVER watch ANY award for decades. Same as BBC Question...   \n",
       "424  RT @annesayer6: @LozzaFox @EquityUK I would suggest actors denounce Equity UK for being complete...   \n",
       "425  @JohnSimpsonNews Not to mention anti SNP bias! It’s blatant in Scotland! There is no doubt the b...   \n",
       "426  RT @Ally__Cinnamon: Boris Johnson could say I fuckin hate the blacks man and there would be a de...   \n",
       "427  @bbcquestiontime BBC Question Time - Mouthpiece of the Labour Party.\\nMiriad of anti-government ...   \n",
       "\n",
       "                                                 label_text  \n",
       "0                                                 {stunned}  \n",
       "1                                                    {love}  \n",
       "2                                               {excellent}  \n",
       "3                                   {you,suggest,go,do,so.}  \n",
       "4                      {\"https://t.co/l2HIKNQ95V\\n\\nWorks\"}  \n",
       "..                                                      ...  \n",
       "423                                                 {NEVER}  \n",
       "424                                          {out,of,touch}  \n",
       "425                                         {disgracefully}  \n",
       "426                                                  {hate}  \n",
       "427  {anti-government,rhetoric,Nothing,remotely,supportive}  \n",
       "\n",
       "[428 rows x 2 columns]"
      ]
     },
     "execution_count": 11,
     "metadata": {},
     "output_type": "execute_result"
    }
   ],
   "source": [
    "df[['feature_text','label_text']]"
   ]
  },
  {
   "cell_type": "code",
   "execution_count": 13,
   "metadata": {},
   "outputs": [],
   "source": [
    "def extract_vals(df,ix):\n",
    "\n",
    "    test_text = df.iloc[ix].feature_text\n",
    "    test_sent = df.iloc[ix].type\n",
    "    test_labels = df.iloc[ix].label_text[1:-1].split(',')\n",
    "    \n",
    "    return test_text, test_sent, test_labels"
   ]
  },
  {
   "cell_type": "code",
   "execution_count": 14,
   "metadata": {},
   "outputs": [
    {
     "data": {
      "text/plain": [
       "('If you haven’t seen the amazon prime show “Upload”, I suggest you go do so. I really enjoyed this movie and it surrounds itself in virtual reality. I have laughed, felt on edge and the story has some twist and turns. Please if you haven’t seen it? Do so! I hope season 2 happens. https://t.co/Mf5bSi',\n",
       " 'pos',\n",
       " ['you', 'suggest', 'go', 'do', 'so.'])"
      ]
     },
     "execution_count": 14,
     "metadata": {},
     "output_type": "execute_result"
    }
   ],
   "source": [
    "extract_vals(df,3)"
   ]
  },
  {
   "cell_type": "markdown",
   "metadata": {},
   "source": [
    "### compare with captum"
   ]
  },
  {
   "cell_type": "code",
   "execution_count": 15,
   "metadata": {},
   "outputs": [],
   "source": [
    "model, embedding, data_clas = reset_model(awd_path)"
   ]
  },
  {
   "cell_type": "code",
   "execution_count": 16,
   "metadata": {},
   "outputs": [],
   "source": [
    "ml = Lambda(lambda x : torch.softmax(model(x)[0],-1), )"
   ]
  },
  {
   "cell_type": "code",
   "execution_count": 17,
   "metadata": {},
   "outputs": [],
   "source": [
    "lig = LayerIntegratedGradients(ml, embedding,)"
   ]
  },
  {
   "cell_type": "code",
   "execution_count": 21,
   "metadata": {},
   "outputs": [
    {
     "name": "stderr",
     "output_type": "stream",
     "text": [
      "100%|██████████| 428/428 [05:17<00:00,  1.35it/s]\n"
     ]
    },
    {
     "data": {
      "text/html": [
       "<div>\n",
       "<style scoped>\n",
       "    .dataframe tbody tr th:only-of-type {\n",
       "        vertical-align: middle;\n",
       "    }\n",
       "\n",
       "    .dataframe tbody tr th {\n",
       "        vertical-align: top;\n",
       "    }\n",
       "\n",
       "    .dataframe thead th {\n",
       "        text-align: right;\n",
       "    }\n",
       "</style>\n",
       "<table border=\"1\" class=\"dataframe\">\n",
       "  <thead>\n",
       "    <tr style=\"text-align: right;\">\n",
       "      <th></th>\n",
       "      <th>model_dict</th>\n",
       "      <th>human_words</th>\n",
       "      <th>sentiment</th>\n",
       "    </tr>\n",
       "  </thead>\n",
       "  <tbody>\n",
       "    <tr>\n",
       "      <th>0</th>\n",
       "      <td>[{'position': 0, 'score': 0.0, 'word': 'xxbos'}, {'position': 1, 'score': 0.021161681041121483, ...</td>\n",
       "      <td>[stunned]</td>\n",
       "      <td>pos</td>\n",
       "    </tr>\n",
       "    <tr>\n",
       "      <th>1</th>\n",
       "      <td>[{'position': 0, 'score': 0.0, 'word': 'xxbos'}, {'position': 1, 'score': 0.02491801790893078, '...</td>\n",
       "      <td>[love]</td>\n",
       "      <td>pos</td>\n",
       "    </tr>\n",
       "    <tr>\n",
       "      <th>2</th>\n",
       "      <td>[{'position': 0, 'score': 0.0, 'word': 'xxbos'}, {'position': 2, 'score': -0.1196400374174118, '...</td>\n",
       "      <td>[excellent]</td>\n",
       "      <td>pos</td>\n",
       "    </tr>\n",
       "    <tr>\n",
       "      <th>3</th>\n",
       "      <td>[{'position': 0, 'score': 0.0, 'word': 'xxbos'}, {'position': 2, 'score': 0.031670838594436646, ...</td>\n",
       "      <td>[you, suggest, go, do, so.]</td>\n",
       "      <td>pos</td>\n",
       "    </tr>\n",
       "    <tr>\n",
       "      <th>4</th>\n",
       "      <td>[{'position': 0, 'score': 0.0, 'word': 'xxbos'}, {'position': 4, 'score': 0.09788115322589874, '...</td>\n",
       "      <td>[\"https://t.co/l2HIKNQ95V\\n\\nWorks\"]</td>\n",
       "      <td>pos</td>\n",
       "    </tr>\n",
       "  </tbody>\n",
       "</table>\n",
       "</div>"
      ],
      "text/plain": [
       "                                                                                            model_dict  \\\n",
       "0  [{'position': 0, 'score': 0.0, 'word': 'xxbos'}, {'position': 1, 'score': 0.021161681041121483, ...   \n",
       "1  [{'position': 0, 'score': 0.0, 'word': 'xxbos'}, {'position': 1, 'score': 0.02491801790893078, '...   \n",
       "2  [{'position': 0, 'score': 0.0, 'word': 'xxbos'}, {'position': 2, 'score': -0.1196400374174118, '...   \n",
       "3  [{'position': 0, 'score': 0.0, 'word': 'xxbos'}, {'position': 2, 'score': 0.031670838594436646, ...   \n",
       "4  [{'position': 0, 'score': 0.0, 'word': 'xxbos'}, {'position': 4, 'score': 0.09788115322589874, '...   \n",
       "\n",
       "                            human_words sentiment  \n",
       "0                             [stunned]       pos  \n",
       "1                                [love]       pos  \n",
       "2                           [excellent]       pos  \n",
       "3           [you, suggest, go, do, so.]       pos  \n",
       "4  [\"https://t.co/l2HIKNQ95V\\n\\nWorks\"]       pos  "
      ]
     },
     "execution_count": 21,
     "metadata": {},
     "output_type": "execute_result"
    }
   ],
   "source": [
    "# loop through all the tweets explain each via captum\n",
    "results=[]\n",
    "for ix in tqdm(range(df.shape[0])):\n",
    "    \n",
    "    test_text, test_sent, test_labels = extract_vals(df,ix)\n",
    "    \n",
    "    input_tensor = data_clas.one_item(test_text)[0].cpu()\n",
    "    words = [data_clas.vocab.itos[i.item()] for i in input_tensor.squeeze(0)]\n",
    "    \n",
    "    \n",
    "    attribs = explain_tweet(test_sent,input_tensor,lig)\n",
    "    attr_data_df = pd.DataFrame(data=(zip(attribs, words)), columns=('score', 'word')).rename_axis('position')\n",
    "    \n",
    "    attr_data_df.reset_index(inplace=True)\n",
    "    \n",
    "    # remove 'xxunk','xxmaj' tags - lstm only\n",
    "    word_dict = attr_data_df.loc[attr_data_df.word.isin(['xxunk','xxmaj'])==False].to_dict(orient='records')\n",
    "    \n",
    "    results.append({'model_dict':word_dict,'human_words':test_labels,'sentiment':test_sent})\n",
    "                                 \n",
    "res_df_cap = pd.DataFrame(results)\n",
    "res_df_cap.head()"
   ]
  },
  {
   "cell_type": "code",
   "execution_count": 22,
   "metadata": {},
   "outputs": [],
   "source": [
    "# save out\n",
    "res_df_cap.to_pickle('lstm_cap_scores.pkl')"
   ]
  }
 ],
 "metadata": {
  "kernelspec": {
   "display_name": "Python 3",
   "language": "python",
   "name": "python3"
  },
  "language_info": {
   "codemirror_mode": {
    "name": "ipython",
    "version": 3
   },
   "file_extension": ".py",
   "mimetype": "text/x-python",
   "name": "python",
   "nbconvert_exporter": "python",
   "pygments_lexer": "ipython3",
   "version": "3.6.9"
  }
 },
 "nbformat": 4,
 "nbformat_minor": 4
}
